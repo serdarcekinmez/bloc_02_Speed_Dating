{
 "cells": [
  {
   "cell_type": "markdown",
   "id": "232e7353",
   "metadata": {},
   "source": [
    "Gender distribution among participants:\n",
    "\n",
    "import pandas as pd\n",
    "import plotly.graph_objects as go\n",
    "\n",
    "gender_counts = data['gender'].value_counts()\n",
    "fig = go.Figure(go.Pie(labels=['Male', 'Female'], values=gender_counts, hole=0.4))\n",
    "fig.update_layout(title='Gender Distribution Among Participants')\n",
    "fig.show()"
   ]
  },
  {
   "cell_type": "markdown",
   "id": "70703d5d",
   "metadata": {},
   "source": [
    "Average age of participants:\n",
    "\n",
    "import plotly.express as px\n",
    "\n",
    "\n",
    "fig = px.histogram(data, x='age', nbins=20)\n",
    "fig.update_layout(title='Age Distribution of Participants', xaxis_title='Age', yaxis_title='Count')\n",
    "fig.show()"
   ]
  },
  {
   "cell_type": "markdown",
   "id": "b1503304",
   "metadata": {},
   "source": [
    "Most important attributes for participants\n",
    "\n",
    "attributes = ['attr1_1', 'sinc1_1', 'intel1_1', 'fun1_1', 'amb1_1', 'shar1_1']\n",
    "attribute_labels = ['Attractive', 'Sincere', 'Intelligent', 'Fun', 'Ambitious', 'Shared Interests']\n",
    "\n",
    "attr_means = data[attributes].mean()\n",
    "fig = go.Figure([go.Bar(x=attribute_labels, y=attr_means, text=attr_means, textposition='auto')])\n",
    "fig.update_layout(title='Importance of Attributes', xaxis_title='Attributes', yaxis_title='Mean Importance')\n",
    "fig.show()"
   ]
  },
  {
   "cell_type": "markdown",
   "id": "93205c67",
   "metadata": {},
   "source": [
    "Attribute preferences by gender:\n",
    "\n",
    "grouped_data = data.groupby('gender')[attributes].mean().reset_index()\n",
    "\n",
    "fig = go.Figure()\n",
    "\n",
    "for i, attr_label in enumerate(attribute_labels):\n",
    "    fig.add_trace(go.Bar(x=['Female', 'Male'], y=grouped_data[attributes[i]], name=attr_label))\n",
    "\n",
    "fig.update_layout(title='Attribute Preferences by Gender', xaxis_title='Gender', yaxis_title='Mean Importance', barmode='group')\n",
    "fig.show()\n"
   ]
  },
  {
   "cell_type": "markdown",
   "id": "92c88425",
   "metadata": {},
   "source": [
    "Match rates by gender:\n",
    "\n",
    "match_by_gender = data.groupby('gender')['match'].mean() * 100\n",
    "fig = go.Figure([go.Bar(x=['Female', 'Male'], y=match_by_gender, text=match_by_gender, textposition='auto')])\n",
    "fig.update_layout(title='Match Rates by Gender', xaxis_title='Gender', yaxis_title='Match Rate (%)')\n",
    "fig.show()\n"
   ]
  },
  {
   "cell_type": "markdown",
   "id": "53142354",
   "metadata": {},
   "source": [
    "Distribution of race among participants:\n",
    "\n",
    "race_labels = ['Black', 'White', 'Hispanic', 'Asian', 'Other']\n",
    "race_counts = data['race'].value_counts()\n",
    "\n",
    "fig = go.Figure(go.Pie(labels=race_labels, values=race_counts, hole=0.4))\n",
    "fig.update_layout(title='Race Distribution Among Participants')\n",
    "fig.show()\n"
   ]
  },
  {
   "cell_type": "markdown",
   "id": "d64fff25",
   "metadata": {},
   "source": [
    "Distribution of field of study among participants:\n",
    "\n",
    "field_counts = data['field_cd'].value_counts()\n",
    "\n",
    "fig = go.Figure(go.Bar(x=field_counts.index, y=field_counts))\n",
    "fig.update_layout(title='Field of Study Distribution', xaxis_title='Field Code', yaxis_title='Count')\n",
    "fig.show()\n"
   ]
  },
  {
   "cell_type": "markdown",
   "id": "415bbf1c",
   "metadata": {},
   "source": [
    "Participants' income distribution:\n",
    "\n",
    "fig = px.histogram(data, x='income', nbins=20)\n",
    "fig.update_layout(title='Income Distribution of Participants', xaxis_title='Income', yaxis_title='Count')\n",
    "fig.show()"
   ]
  },
  {
   "cell_type": "markdown",
   "id": "5f7b88e7",
   "metadata": {},
   "source": [
    "Subplots: Age and income distribution:\n",
    "\n",
    "from plotly.subplots import make_subplots\n",
    "\n",
    "age_hist = px.histogram(data, x='age', nbins=20)\n",
    "income_hist = px.histogram(data, x='income', nbins=20)\n",
    "\n",
    "fig = make_subplots(rows=1, cols=2, subplot_titles=('Age Distribution', 'Income Distribution'))\n",
    "fig.add_trace(age_hist['data'][0], row=1, col=1)\n",
    "fig.add_trace(income_hist['data'][0], row=1, col=2)\n",
    "fig.update_layout(title='Age and Income Distribution of Participants')\n",
    "fig.show()\n"
   ]
  },
  {
   "cell_type": "markdown",
   "id": "913ee5ea",
   "metadata": {},
   "source": [
    "Heatmap of attribute preferences by race:\n",
    "\n",
    "import plotly.figure_factory as ff\n",
    "\n",
    "race_labels = ['Black', 'White', 'Hispanic', 'Asian', 'Other']\n",
    "attribute_labels = ['Attractive', 'Sincere', 'Intelligent', 'Fun', 'Ambitious', 'Shared Interests']\n",
    "\n",
    "attributes = ['attr1_1', 'sinc1_1', 'intel1_1', 'fun1_1', 'amb1_1', 'shar1_1']\n",
    "grouped_data_by_race = data.groupby('race')[attributes].mean().reset_index()\n",
    "\n",
    "fig = ff.create_annotated_heatmap(z=grouped_data_by_race[attributes].values, x=attribute_labels, y=race_labels, colorscale='Viridis')\n",
    "fig.update_layout(title='Attribute Preferences by Race', xaxis_title='Attributes', yaxis_title='Race')\n",
    "fig.show()\n"
   ]
  },
  {
   "cell_type": "markdown",
   "id": "d253a049",
   "metadata": {},
   "source": [
    "4- Here are three A/B test suggestions from this dataset:\n",
    "\n",
    "A/B Test 1: Test if there is a difference in match rates between different participant age groups.\n",
    "\n",
    "A: Participants below the median age\n",
    "B: Participants above the median age\n",
    "A/B Test 2: Test if there is a difference in match rates between participants with different income levels.\n",
    "\n",
    "A: Participants with income below the median income\n",
    "B: Participants with income above the median income\n",
    "A/B Test 3: Test if there is a difference in match rates between participants who prioritize attraction and those who prioritize sincerity.\n",
    "\n",
    "A: Participants with a higher preference for attraction than sincerity\n",
    "B: Participants with a higher preference for sincerity than attraction"
   ]
  },
  {
   "cell_type": "markdown",
   "id": "3152c41d",
   "metadata": {},
   "source": [
    "# Calculate the average attribute ratings for matches and non-matches\n",
    "\n",
    "Conclusion 1: Participants who rated their partners higher in attributes such as attraction, sincerity, intelligence, fun, and shared interests were more likely to receive a match.\n",
    "\n",
    "\n",
    "matches = data[data['match'] == 1]\n",
    "non_matches = data[data['match'] == 0]\n",
    "attribute_columns = ['attr', 'sinc', 'intel', 'fun', 'shar']\n",
    "\n",
    "avg_attr_matches = matches[attribute_columns].mean()\n",
    "avg_attr_non_matches = non_matches[attribute_columns].mean()\n",
    "\n",
    "print(\"Average attribute ratings for matches:\\n\", avg_attr_matches)\n",
    "print(\"\\nAverage attribute ratings for non-matches:\\n\", avg_attr_non_matches)\n",
    "\n",
    "# Compare the average attribute ratings\n",
    "higher_ratings = avg_attr_matches > avg_attr_non_matches\n",
    "conclusion_1_supported = all(higher_ratings)\n",
    "\n",
    "if conclusion_1_supported:\n",
    "    print(\"\\nConclusion 1: Participants who rated their partners higher in attributes were more likely to receive a match.\")\n",
    "else:\n",
    "    print(\"\\nConclusion 1: The data does not fully support the hypothesis.\")\n"
   ]
  },
  {
   "cell_type": "markdown",
   "id": "76ce1b61",
   "metadata": {},
   "source": [
    "# Calculate the average attribute preference correlation for matches and non-matches\n",
    "\n",
    "Conclusion 2: Participants who had similar preferences in attributes had a higher chance of matching with each other. \n",
    "code the conclusions\n",
    "\n",
    "int_corr_matches = matches['int_corr'].mean()\n",
    "int_corr_non_matches = non_matches['int_corr'].mean()\n",
    "\n",
    "print(\"Average attribute preference correlation for matches:\", int_corr_matches)\n",
    "print(\"Average attribute preference correlation for non-matches:\", int_corr_non_matches)\n",
    "\n",
    "# Compare the average attribute preference correlation\n",
    "conclusion_2_supported = int_corr_matches > int_corr_non_matches\n",
    "\n",
    "if conclusion_2_supported:\n",
    "    print(\"\\nConclusion 2: Participants who had similar preferences in attributes had a higher chance of matching with each other.\")\n",
    "else:\n",
    "    print(\"\\nConclusion 2: The data does not fully support the hypothesis.\")"
   ]
  },
  {
   "cell_type": "markdown",
   "id": "c6cd01e9",
   "metadata": {},
   "source": [
    "Here's a code snippet to create a Plotly pie chart to visualize the proportion of participants who accepted a second date, grouped by age:\n",
    "\n",
    "import plotly.express as px\n",
    "\n",
    "# Create a new column that indicates whether a participant accepted a second date or not\n",
    "data['accepted_second_date'] = data['date_3'].apply(lambda x: 'Accepted' if x == 1 else 'Rejected')\n",
    "\n",
    "# Group the data by age and count the occurrences of 'Accepted' and 'Rejected' for each age group\n",
    "age_second_date_counts = data.groupby(['age', 'accepted_second_date']).size().reset_index(name='counts')\n",
    "\n",
    "# Create a pie chart using Plotly Express\n",
    "fig = px.pie(age_second_date_counts, values='counts', names='accepted_second_date', title='Second Date Acceptance by Age', color_discrete_sequence=['green', 'red'])\n",
    "fig.show()\n"
   ]
  },
  {
   "cell_type": "markdown",
   "id": "daabb9d6",
   "metadata": {},
   "source": [
    "Accepted a second date related with the profession in plotly pies:\n",
    "    \n",
    "import plotly.graph_objects as go\n",
    "from plotly.subplots import make_subplots\n",
    "\n",
    "# Group the data by career_c and count the occurrences of 'Accepted' and 'Rejected' for each career category\n",
    "career_second_date_counts = data.groupby(['career_c', 'accepted_second_date']).size().reset_index(name='counts')\n",
    "\n",
    "# Find the unique career categories\n",
    "unique_careers = career_second_date_counts['career_c'].unique()\n",
    "\n",
    "# Create a subplot for each career category\n",
    "rows = 4\n",
    "cols = 4\n",
    "subplot_titles = [f\"Career {int(c)}\" for c in unique_careers]\n",
    "fig = make_subplots(rows=rows, cols=cols, specs=[[{'type': 'domain'}] * cols] * rows, subplot_titles=subplot_titles)\n",
    "\n",
    "for i, career in enumerate(unique_careers, 1):\n",
    "    career_data = career_second_date_counts[career_second_date_counts['career_c'] == career]\n",
    "    pie = go.Pie(labels=career_data['accepted_second_date'], values=career_data['counts'], name=f\"Career {int(career)}\")\n",
    "    fig.add_trace(pie, row=((i - 1) // cols) + 1, col=((i - 1) % cols) + 1)\n",
    "\n",
    "fig.update_layout(title='Second Date Acceptance by Profession')\n",
    "fig.show()\n"
   ]
  },
  {
   "cell_type": "markdown",
   "id": "8bc4fb90",
   "metadata": {},
   "source": [
    "To perform A/B tests, we will use the statsmodels.stats.proportion library. Here are three A/B test examples based on the dataset:\n",
    "\n",
    "Test whether the proportion of matches differs between participants who have the same race and those who have different races.\n",
    "Test whether the proportion of matches differs between participants who have the same field of study and those who have different fields of study.\n",
    "Test whether the proportion of matches differs between participants who rated their partner's attractiveness above the median and those who rated it below the median."
   ]
  },
  {
   "cell_type": "markdown",
   "id": "622383e2",
   "metadata": {},
   "source": [
    "\n",
    "\n",
    "import numpy as np\n",
    "import pandas as pd\n",
    "from statsmodels.stats.proportion import proportions_ztest\n",
    "\n",
    "# A/B Test 1: Same race vs different race\n",
    "same_race = data[data['samerace'] == 1]\n",
    "diff_race = data[data['samerace'] == 0]\n",
    "\n",
    "count_same_race = np.sum(same_race['match'])\n",
    "count_diff_race = np.sum(diff_race['match'])\n",
    "\n",
    "n_same_race = len(same_race)\n",
    "n_diff_race = len(diff_race)\n",
    "\n",
    "stat, pval = proportions_ztest([count_same_race, count_diff_race], [n_same_race, n_diff_race])\n",
    "print(\"A/B Test 1 - Same race vs different race:\")\n",
    "print(f\"z-statistic: {stat}, p-value: {pval}\\n\")\n",
    "\n",
    "# A/B Test 2: Same field of study vs different field of study\n",
    "data['same_field'] = data['field_cd'] == data['partner_field_cd']\n",
    "same_field = data[data['same_field']]\n",
    "diff_field = data[~data['same_field']]\n",
    "\n",
    "count_same_field = np.sum(same_field['match'])\n",
    "count_diff_field = np.sum(diff_field['match'])\n",
    "\n",
    "n_same_field = len(same_field)\n",
    "n_diff_field = len(diff_field)\n",
    "\n",
    "stat, pval = proportions_ztest([count_same_field, count_diff_field], [n_same_field, n_diff_field])\n",
    "print(\"A/B Test 2 - Same field of study vs different field of study:\")\n",
    "print(f\"z-statistic: {stat}, p-value: {pval}\\n\")\n",
    "\n",
    "# A/B Test 3: Attractiveness above median vs below median\n",
    "median_attr = data['attr'].median()\n",
    "high_attr = data[data['attr'] > median_attr]\n",
    "low_attr = data[data['attr'] <= median_attr]\n",
    "\n",
    "count_high_attr = np.sum(high_attr['match'])\n",
    "count_low_attr = np.sum(low_attr['match'])\n",
    "\n",
    "n_high_attr = len(high_attr)\n",
    "n_low_attr = len(low_attr)\n",
    "\n",
    "stat, pval = proportions_ztest([count_high_attr, count_low_attr], [n_high_attr, n_low_attr])\n",
    "print(\"A/B Test 3 - Attractiveness above median vs below median:\")\n",
    "print(f\"z-statistic: {stat}, p-value: {pval}\\n\")\n"
   ]
  },
  {
   "cell_type": "markdown",
   "id": "ea017789",
   "metadata": {},
   "source": [
    "\n",
    "ab_test_results = []\n",
    "\n",
    "# A/B Test 1: Same race vs different race\n",
    "stat, pval = proportions_ztest([count_same_race, count_diff_race], [n_same_race, n_diff_race])\n",
    "ab_test_results.append({\"Test\": \"Same race vs different race\", \"z-statistic\": stat, \"p-value\": pval})\n",
    "\n",
    "# A/B Test 2: Same field of study vs different field of study\n",
    "stat, pval = proportions_ztest([count_same_field, count_diff_field], [n_same_field, n_diff_field])\n",
    "ab_test_results.append({\"Test\": \"Same field of study vs different field of study\", \"z-statistic\": stat, \"p-value\": pval})\n",
    "\n",
    "# A/B Test 3: Attractiveness above median vs below median\n",
    "stat, pval = proportions_ztest([count_high_attr, count_low_attr], [n_high_attr, n_low_attr])\n",
    "ab_test_results.append({\"Test\": \"Attractiveness above median vs below median\", \"z-statistic\": stat, \"p-value\": pval})\n",
    "\n",
    "# Create a pandas DataFrame from the results\n",
    "ab_test_results_df = pd.DataFrame(ab_test_results)\n",
    "print(ab_test_results_df)\n"
   ]
  },
  {
   "cell_type": "markdown",
   "id": "55320df0",
   "metadata": {},
   "source": [
    "Same ab test different library: "
   ]
  },
  {
   "cell_type": "markdown",
   "id": "a34feb1e",
   "metadata": {},
   "source": [
    "import numpy as np\n",
    "import pandas as pd\n",
    "from scipy.stats import chi2_contingency\n",
    "\n",
    "ab_test_results = []\n",
    "\n",
    "# A/B Test 1: Same race vs different race\n",
    "contingency_table_1 = np.array([[count_same_race, n_same_race - count_same_race], \n",
    "                                [count_diff_race, n_diff_race - count_diff_race]])\n",
    "\n",
    "chi2, pval, _, _ = chi2_contingency(contingency_table_1)\n",
    "ab_test_results.append({\"Test\": \"Same race vs different race\", \"Chi2\": chi2, \"p-value\": pval})\n",
    "\n",
    "# A/B Test 2: Same field of study vs different field of study\n",
    "contingency_table_2 = np.array([[count_same_field, n_same_field - count_same_field], \n",
    "                                [count_diff_field, n_diff_field - count_diff_field]])\n",
    "\n",
    "chi2, pval, _, _ = chi2_contingency(contingency_table_2)\n",
    "ab_test_results.append({\"Test\": \"Same field of study vs different field of study\", \"Chi2\": chi2, \"p-value\": pval})\n",
    "\n",
    "# A/B Test 3: Attractiveness above median vs below median\n",
    "contingency_table_3 = np.array([[count_high_attr, n_high_attr - count_high_attr], \n",
    "                                [count_low_attr, n_low_attr - count_low_attr]])\n",
    "\n",
    "chi2, pval, _, _ = chi2_contingency(contingency_table_3)\n",
    "ab_test_results.append({\"Test\": \"Attractiveness above median vs below median\", \"Chi2\": chi2, \"p-value\": pval})\n",
    "\n",
    "# Create a pandas DataFrame from the results\n",
    "ab_test_results_df = pd.DataFrame(ab_test_results)\n",
    "print(ab_test_results_df)\n"
   ]
  },
  {
   "cell_type": "markdown",
   "id": "d0b0a673",
   "metadata": {},
   "source": [
    "The underscores in the code snippet are placeholders used when unpacking the values \n",
    "returned by the chi2_contingency function. The function returns four values: \n",
    "    the chi-squared test statistic, the p-value, the degrees of freedom, and the expected frequencies. \n",
    "    In this case, we are only interested in the chi-squared test statistic and the p-value, \n",
    "    so we use underscores as placeholders for the degrees of freedom and the expected frequencies to ignore them."
   ]
  },
  {
   "cell_type": "markdown",
   "id": "09f54ffa",
   "metadata": {},
   "source": [
    "chi2, pval, degrees_of_freedom, expected_frequencies = chi2_contingency(contingency_table)\n"
   ]
  }
 ],
 "metadata": {
  "kernelspec": {
   "display_name": "Python 3 (ipykernel)",
   "language": "python",
   "name": "python3"
  },
  "language_info": {
   "codemirror_mode": {
    "name": "ipython",
    "version": 3
   },
   "file_extension": ".py",
   "mimetype": "text/x-python",
   "name": "python",
   "nbconvert_exporter": "python",
   "pygments_lexer": "ipython3",
   "version": "3.9.16"
  }
 },
 "nbformat": 4,
 "nbformat_minor": 5
}
